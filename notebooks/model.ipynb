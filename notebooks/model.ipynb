{
 "cells": [
  {
   "cell_type": "code",
   "execution_count": 131,
   "metadata": {
    "collapsed": true,
    "ExecuteTime": {
     "end_time": "2023-06-22T08:21:23.665994Z",
     "start_time": "2023-06-22T08:21:23.594227800Z"
    }
   },
   "outputs": [],
   "source": [
    "import pandas as pd"
   ]
  },
  {
   "cell_type": "markdown",
   "source": [
    "## Data Exploration"
   ],
   "metadata": {
    "collapsed": false
   }
  },
  {
   "cell_type": "markdown",
   "source": [
    "### OCR results"
   ],
   "metadata": {
    "collapsed": false
   }
  },
  {
   "cell_type": "code",
   "execution_count": 132,
   "outputs": [
    {
     "data": {
      "text/plain": "                                            filename  \\\n0  test_hashed\\pit37_v1\\9d6f61c6-52ad-4546-85b7-b...   \n1  test_hashed\\pit37_v1\\f14ea197-70bd-45ae-9a22-d...   \n2  test_hashed\\pit37_v1\\070a521a-7038-4551-bc6a-b...   \n3  test_hashed\\pit37_v1\\f4d15b30-6e96-4452-b614-a...   \n4  test_hashed\\pit37_v1\\64d085a8-39a0-4887-859e-8...   \n\n                                                text  \n0  POLA Lalwe poda PODATNIK POLA , CIEMNE _ URZAD...  \n1  PlTaxpl POUA 'WYPELNIA PODATNIK POLA CIEMNE WY...  \n2  MyPfenl Wypelnic DulyMi DaukowanlUiTERAM ClRnY...  \n3  PlTaxpl POLA JASNE WYPEŁNIA PODATNIK _POLA CIE...  \n4  PITaxpl LA Jash€ WyPelNIA PODiTŃIK PCU CieMne ...  ",
      "text/html": "<div>\n<style scoped>\n    .dataframe tbody tr th:only-of-type {\n        vertical-align: middle;\n    }\n\n    .dataframe tbody tr th {\n        vertical-align: top;\n    }\n\n    .dataframe thead th {\n        text-align: right;\n    }\n</style>\n<table border=\"1\" class=\"dataframe\">\n  <thead>\n    <tr style=\"text-align: right;\">\n      <th></th>\n      <th>filename</th>\n      <th>text</th>\n    </tr>\n  </thead>\n  <tbody>\n    <tr>\n      <th>0</th>\n      <td>test_hashed\\pit37_v1\\9d6f61c6-52ad-4546-85b7-b...</td>\n      <td>POLA Lalwe poda PODATNIK POLA , CIEMNE _ URZAD...</td>\n    </tr>\n    <tr>\n      <th>1</th>\n      <td>test_hashed\\pit37_v1\\f14ea197-70bd-45ae-9a22-d...</td>\n      <td>PlTaxpl POUA 'WYPELNIA PODATNIK POLA CIEMNE WY...</td>\n    </tr>\n    <tr>\n      <th>2</th>\n      <td>test_hashed\\pit37_v1\\070a521a-7038-4551-bc6a-b...</td>\n      <td>MyPfenl Wypelnic DulyMi DaukowanlUiTERAM ClRnY...</td>\n    </tr>\n    <tr>\n      <th>3</th>\n      <td>test_hashed\\pit37_v1\\f4d15b30-6e96-4452-b614-a...</td>\n      <td>PlTaxpl POLA JASNE WYPEŁNIA PODATNIK _POLA CIE...</td>\n    </tr>\n    <tr>\n      <th>4</th>\n      <td>test_hashed\\pit37_v1\\64d085a8-39a0-4887-859e-8...</td>\n      <td>PITaxpl LA Jash€ WyPelNIA PODiTŃIK PCU CieMne ...</td>\n    </tr>\n  </tbody>\n</table>\n</div>"
     },
     "execution_count": 132,
     "metadata": {},
     "output_type": "execute_result"
    }
   ],
   "source": [
    "train_dataset = pd.DataFrame(pd.read_pickle(\"../data/train_set_ocr.pkl\").items(), columns=\"filename text\".split())\n",
    "train_dataset.head()"
   ],
   "metadata": {
    "collapsed": false,
    "ExecuteTime": {
     "end_time": "2023-06-22T08:21:23.753837600Z",
     "start_time": "2023-06-22T08:21:23.600565Z"
    }
   }
  },
  {
   "cell_type": "code",
   "execution_count": 133,
   "outputs": [
    {
     "name": "stdout",
     "output_type": "stream",
     "text": [
      "<class 'pandas.core.frame.DataFrame'>\n",
      "RangeIndex: 10884 entries, 0 to 10883\n",
      "Data columns (total 2 columns):\n",
      " #   Column    Non-Null Count  Dtype \n",
      "---  ------    --------------  ----- \n",
      " 0   filename  10884 non-null  object\n",
      " 1   text      10884 non-null  object\n",
      "dtypes: object(2)\n",
      "memory usage: 170.2+ KB\n"
     ]
    }
   ],
   "source": [
    "train_dataset.info()"
   ],
   "metadata": {
    "collapsed": false,
    "ExecuteTime": {
     "end_time": "2023-06-22T08:21:23.753837600Z",
     "start_time": "2023-06-22T08:21:23.641111900Z"
    }
   }
  },
  {
   "cell_type": "markdown",
   "source": [
    "### Classes"
   ],
   "metadata": {
    "collapsed": false
   }
  },
  {
   "cell_type": "code",
   "execution_count": 135,
   "outputs": [
    {
     "name": "stdout",
     "output_type": "stream",
     "text": [
      "Classes not found count: 35\n",
      "Equals to 0.003215729511209114 of train data\n"
     ]
    }
   ],
   "source": [
    "filename_to_class = pd.read_pickle(\"../data/train_labels_final.pkl\")\n",
    "\n",
    "classes_not_found = []\n",
    "for filename in train_dataset[\"filename\"].to_list():\n",
    "    if filename not in filename_to_class:\n",
    "        classes_not_found.append(filename)\n",
    "\n",
    "print(f\"Classes not found count: {len(classes_not_found)}\")\n",
    "print(f\"Equals to {len(classes_not_found)/train_dataset.shape[0]} of train data\")"
   ],
   "metadata": {
    "collapsed": false,
    "ExecuteTime": {
     "end_time": "2023-06-22T08:21:23.769464100Z",
     "start_time": "2023-06-22T08:21:23.654663200Z"
    }
   }
  },
  {
   "cell_type": "markdown",
   "source": [
    "The number of classes not found is relatively very small. We can ignore it."
   ],
   "metadata": {
    "collapsed": false
   }
  },
  {
   "cell_type": "code",
   "execution_count": 136,
   "outputs": [
    {
     "data": {
      "text/plain": "10849"
     },
     "execution_count": 136,
     "metadata": {},
     "output_type": "execute_result"
    }
   ],
   "source": [
    "train_dataset = train_dataset[~train_dataset[\"filename\"].isin(classes_not_found)]\n",
    "train_dataset.shape[0]"
   ],
   "metadata": {
    "collapsed": false,
    "ExecuteTime": {
     "end_time": "2023-06-22T08:21:23.769464100Z",
     "start_time": "2023-06-22T08:21:23.665994Z"
    }
   }
  },
  {
   "cell_type": "code",
   "execution_count": 137,
   "outputs": [
    {
     "data": {
      "text/plain": "                                            filename  \\\n0  test_hashed\\pit37_v1\\9d6f61c6-52ad-4546-85b7-b...   \n1  test_hashed\\pit37_v1\\f14ea197-70bd-45ae-9a22-d...   \n2  test_hashed\\pit37_v1\\070a521a-7038-4551-bc6a-b...   \n3  test_hashed\\pit37_v1\\f4d15b30-6e96-4452-b614-a...   \n4  test_hashed\\pit37_v1\\64d085a8-39a0-4887-859e-8...   \n\n                                                text     class  \n0  POLA Lalwe poda PODATNIK POLA , CIEMNE _ URZAD...  pit37_v1  \n1  PlTaxpl POUA 'WYPELNIA PODATNIK POLA CIEMNE WY...  pit37_v1  \n2  MyPfenl Wypelnic DulyMi DaukowanlUiTERAM ClRnY...  pit37_v1  \n3  PlTaxpl POLA JASNE WYPEŁNIA PODATNIK _POLA CIE...  pit37_v1  \n4  PITaxpl LA Jash€ WyPelNIA PODiTŃIK PCU CieMne ...  pit37_v1  ",
      "text/html": "<div>\n<style scoped>\n    .dataframe tbody tr th:only-of-type {\n        vertical-align: middle;\n    }\n\n    .dataframe tbody tr th {\n        vertical-align: top;\n    }\n\n    .dataframe thead th {\n        text-align: right;\n    }\n</style>\n<table border=\"1\" class=\"dataframe\">\n  <thead>\n    <tr style=\"text-align: right;\">\n      <th></th>\n      <th>filename</th>\n      <th>text</th>\n      <th>class</th>\n    </tr>\n  </thead>\n  <tbody>\n    <tr>\n      <th>0</th>\n      <td>test_hashed\\pit37_v1\\9d6f61c6-52ad-4546-85b7-b...</td>\n      <td>POLA Lalwe poda PODATNIK POLA , CIEMNE _ URZAD...</td>\n      <td>pit37_v1</td>\n    </tr>\n    <tr>\n      <th>1</th>\n      <td>test_hashed\\pit37_v1\\f14ea197-70bd-45ae-9a22-d...</td>\n      <td>PlTaxpl POUA 'WYPELNIA PODATNIK POLA CIEMNE WY...</td>\n      <td>pit37_v1</td>\n    </tr>\n    <tr>\n      <th>2</th>\n      <td>test_hashed\\pit37_v1\\070a521a-7038-4551-bc6a-b...</td>\n      <td>MyPfenl Wypelnic DulyMi DaukowanlUiTERAM ClRnY...</td>\n      <td>pit37_v1</td>\n    </tr>\n    <tr>\n      <th>3</th>\n      <td>test_hashed\\pit37_v1\\f4d15b30-6e96-4452-b614-a...</td>\n      <td>PlTaxpl POLA JASNE WYPEŁNIA PODATNIK _POLA CIE...</td>\n      <td>pit37_v1</td>\n    </tr>\n    <tr>\n      <th>4</th>\n      <td>test_hashed\\pit37_v1\\64d085a8-39a0-4887-859e-8...</td>\n      <td>PITaxpl LA Jash€ WyPelNIA PODiTŃIK PCU CieMne ...</td>\n      <td>pit37_v1</td>\n    </tr>\n  </tbody>\n</table>\n</div>"
     },
     "execution_count": 137,
     "metadata": {},
     "output_type": "execute_result"
    }
   ],
   "source": [
    "train_dataset[\"class\"] = train_dataset[\"filename\"].apply(lambda f: filename_to_class[f])\n",
    "train_dataset.head()"
   ],
   "metadata": {
    "collapsed": false,
    "ExecuteTime": {
     "end_time": "2023-06-22T08:21:23.769464100Z",
     "start_time": "2023-06-22T08:21:23.674682200Z"
    }
   }
  },
  {
   "cell_type": "markdown",
   "source": [
    "### Numerical Classes"
   ],
   "metadata": {
    "collapsed": false
   }
  },
  {
   "cell_type": "code",
   "execution_count": 138,
   "outputs": [
    {
     "data": {
      "text/plain": "{'advertisement': 0,\n 'budget': 1,\n 'email': 2,\n 'file_folder': 3,\n 'form': 4,\n 'handwritten': 5,\n 'invoice': 6,\n 'letter': 7,\n 'memo': 8,\n 'news_article': 9,\n 'pit37_v1': 10,\n 'pozwolenie_uzytkowanie_obiektu_budowlanego': 11,\n 'presentation': 12,\n 'questionnaire': 13,\n 'resume': 14,\n 'scientific_publication': 15,\n 'scientific_report': 16,\n 'specification': 17,\n 'umowa_na_odleglosc_odstapienie': 18,\n 'umowa_o_dzielo': 19,\n 'umowa_sprzedazy_samochodu': 20}"
     },
     "execution_count": 138,
     "metadata": {},
     "output_type": "execute_result"
    }
   ],
   "source": [
    "label_to_label_id = pd.read_pickle(\"../data/id2label_final.pkl\")\n",
    "label_to_label_id"
   ],
   "metadata": {
    "collapsed": false,
    "ExecuteTime": {
     "end_time": "2023-06-22T08:21:23.769464100Z",
     "start_time": "2023-06-22T08:21:23.687332100Z"
    }
   }
  },
  {
   "cell_type": "code",
   "execution_count": 139,
   "outputs": [
    {
     "data": {
      "text/plain": "                                            filename  \\\n0  test_hashed\\pit37_v1\\9d6f61c6-52ad-4546-85b7-b...   \n1  test_hashed\\pit37_v1\\f14ea197-70bd-45ae-9a22-d...   \n2  test_hashed\\pit37_v1\\070a521a-7038-4551-bc6a-b...   \n3  test_hashed\\pit37_v1\\f4d15b30-6e96-4452-b614-a...   \n4  test_hashed\\pit37_v1\\64d085a8-39a0-4887-859e-8...   \n\n                                                text     class  class_id  \n0  POLA Lalwe poda PODATNIK POLA , CIEMNE _ URZAD...  pit37_v1        10  \n1  PlTaxpl POUA 'WYPELNIA PODATNIK POLA CIEMNE WY...  pit37_v1        10  \n2  MyPfenl Wypelnic DulyMi DaukowanlUiTERAM ClRnY...  pit37_v1        10  \n3  PlTaxpl POLA JASNE WYPEŁNIA PODATNIK _POLA CIE...  pit37_v1        10  \n4  PITaxpl LA Jash€ WyPelNIA PODiTŃIK PCU CieMne ...  pit37_v1        10  ",
      "text/html": "<div>\n<style scoped>\n    .dataframe tbody tr th:only-of-type {\n        vertical-align: middle;\n    }\n\n    .dataframe tbody tr th {\n        vertical-align: top;\n    }\n\n    .dataframe thead th {\n        text-align: right;\n    }\n</style>\n<table border=\"1\" class=\"dataframe\">\n  <thead>\n    <tr style=\"text-align: right;\">\n      <th></th>\n      <th>filename</th>\n      <th>text</th>\n      <th>class</th>\n      <th>class_id</th>\n    </tr>\n  </thead>\n  <tbody>\n    <tr>\n      <th>0</th>\n      <td>test_hashed\\pit37_v1\\9d6f61c6-52ad-4546-85b7-b...</td>\n      <td>POLA Lalwe poda PODATNIK POLA , CIEMNE _ URZAD...</td>\n      <td>pit37_v1</td>\n      <td>10</td>\n    </tr>\n    <tr>\n      <th>1</th>\n      <td>test_hashed\\pit37_v1\\f14ea197-70bd-45ae-9a22-d...</td>\n      <td>PlTaxpl POUA 'WYPELNIA PODATNIK POLA CIEMNE WY...</td>\n      <td>pit37_v1</td>\n      <td>10</td>\n    </tr>\n    <tr>\n      <th>2</th>\n      <td>test_hashed\\pit37_v1\\070a521a-7038-4551-bc6a-b...</td>\n      <td>MyPfenl Wypelnic DulyMi DaukowanlUiTERAM ClRnY...</td>\n      <td>pit37_v1</td>\n      <td>10</td>\n    </tr>\n    <tr>\n      <th>3</th>\n      <td>test_hashed\\pit37_v1\\f4d15b30-6e96-4452-b614-a...</td>\n      <td>PlTaxpl POLA JASNE WYPEŁNIA PODATNIK _POLA CIE...</td>\n      <td>pit37_v1</td>\n      <td>10</td>\n    </tr>\n    <tr>\n      <th>4</th>\n      <td>test_hashed\\pit37_v1\\64d085a8-39a0-4887-859e-8...</td>\n      <td>PITaxpl LA Jash€ WyPelNIA PODiTŃIK PCU CieMne ...</td>\n      <td>pit37_v1</td>\n      <td>10</td>\n    </tr>\n  </tbody>\n</table>\n</div>"
     },
     "execution_count": 139,
     "metadata": {},
     "output_type": "execute_result"
    }
   ],
   "source": [
    "train_dataset[\"class_id\"] = train_dataset[\"class\"].apply(lambda c: label_to_label_id[c])\n",
    "train_dataset.head()"
   ],
   "metadata": {
    "collapsed": false,
    "ExecuteTime": {
     "end_time": "2023-06-22T08:21:23.769464100Z",
     "start_time": "2023-06-22T08:21:23.693711500Z"
    }
   }
  },
  {
   "cell_type": "markdown",
   "source": [
    "### Classes Summary"
   ],
   "metadata": {
    "collapsed": false
   }
  },
  {
   "cell_type": "code",
   "execution_count": 140,
   "outputs": [
    {
     "data": {
      "text/plain": "class                                       class_id\nhandwritten                                 5           618\npresentation                                12          592\nscientific_report                           16          584\nadvertisement                               0           580\nscientific_publication                      15          577\nfile_folder                                 3           566\nform                                        4           566\nresume                                      14          565\nemail                                       2           563\nmemo                                        8           558\nbudget                                      1           556\ninvoice                                     6           555\nletter                                      7           551\nquestionnaire                               13          551\nspecification                               17          529\nnews_article                                9           503\npit37_v1                                    10          400\numowa_na_odleglosc_odstapienie              18          390\numowa_sprzedazy_samochodu                   20          377\numowa_o_dzielo                              19          373\npozwolenie_uzytkowanie_obiektu_budowlanego  11          295\nName: count, dtype: int64"
     },
     "execution_count": 140,
     "metadata": {},
     "output_type": "execute_result"
    }
   ],
   "source": [
    "train_dataset[\"class class_id\".split()].value_counts()"
   ],
   "metadata": {
    "collapsed": false,
    "ExecuteTime": {
     "end_time": "2023-06-22T08:21:23.769464100Z",
     "start_time": "2023-06-22T08:21:23.706555700Z"
    }
   }
  },
  {
   "cell_type": "code",
   "execution_count": 141,
   "outputs": [
    {
     "data": {
      "text/plain": "21"
     },
     "execution_count": 141,
     "metadata": {},
     "output_type": "execute_result"
    }
   ],
   "source": [
    "len(train_dataset.class_id.unique())"
   ],
   "metadata": {
    "collapsed": false,
    "ExecuteTime": {
     "end_time": "2023-06-22T08:21:23.785091Z",
     "start_time": "2023-06-22T08:21:23.716524600Z"
    }
   }
  },
  {
   "cell_type": "markdown",
   "source": [
    "## Tokenization"
   ],
   "metadata": {
    "collapsed": false
   }
  },
  {
   "cell_type": "code",
   "execution_count": 142,
   "outputs": [
    {
     "data": {
      "text/plain": "                                            filename  \\\n0  test_hashed\\pit37_v1\\9d6f61c6-52ad-4546-85b7-b...   \n1  test_hashed\\pit37_v1\\f14ea197-70bd-45ae-9a22-d...   \n2  test_hashed\\pit37_v1\\070a521a-7038-4551-bc6a-b...   \n3  test_hashed\\pit37_v1\\f4d15b30-6e96-4452-b614-a...   \n4  test_hashed\\pit37_v1\\64d085a8-39a0-4887-859e-8...   \n\n                                                text     class  class_id  \n0  pola lalwe poda podatnik pola ciemne urzad nip...  pit37_v1        10  \n1  pltaxpl poua wypelnia podatnik pola ciemne wyp...  pit37_v1        10  \n2  mypfenl wypelnic dulymi daukowanluiteram clrny...  pit37_v1        10  \n3  pltaxpl pola jasne wypełnia podatnik pola ciem...  pit37_v1        10  \n4  pitaxpl la jash€ wypelnia poditńik pcu ciemne ...  pit37_v1        10  ",
      "text/html": "<div>\n<style scoped>\n    .dataframe tbody tr th:only-of-type {\n        vertical-align: middle;\n    }\n\n    .dataframe tbody tr th {\n        vertical-align: top;\n    }\n\n    .dataframe thead th {\n        text-align: right;\n    }\n</style>\n<table border=\"1\" class=\"dataframe\">\n  <thead>\n    <tr style=\"text-align: right;\">\n      <th></th>\n      <th>filename</th>\n      <th>text</th>\n      <th>class</th>\n      <th>class_id</th>\n    </tr>\n  </thead>\n  <tbody>\n    <tr>\n      <th>0</th>\n      <td>test_hashed\\pit37_v1\\9d6f61c6-52ad-4546-85b7-b...</td>\n      <td>pola lalwe poda podatnik pola ciemne urzad nip...</td>\n      <td>pit37_v1</td>\n      <td>10</td>\n    </tr>\n    <tr>\n      <th>1</th>\n      <td>test_hashed\\pit37_v1\\f14ea197-70bd-45ae-9a22-d...</td>\n      <td>pltaxpl poua wypelnia podatnik pola ciemne wyp...</td>\n      <td>pit37_v1</td>\n      <td>10</td>\n    </tr>\n    <tr>\n      <th>2</th>\n      <td>test_hashed\\pit37_v1\\070a521a-7038-4551-bc6a-b...</td>\n      <td>mypfenl wypelnic dulymi daukowanluiteram clrny...</td>\n      <td>pit37_v1</td>\n      <td>10</td>\n    </tr>\n    <tr>\n      <th>3</th>\n      <td>test_hashed\\pit37_v1\\f4d15b30-6e96-4452-b614-a...</td>\n      <td>pltaxpl pola jasne wypełnia podatnik pola ciem...</td>\n      <td>pit37_v1</td>\n      <td>10</td>\n    </tr>\n    <tr>\n      <th>4</th>\n      <td>test_hashed\\pit37_v1\\64d085a8-39a0-4887-859e-8...</td>\n      <td>pitaxpl la jash€ wypelnia poditńik pcu ciemne ...</td>\n      <td>pit37_v1</td>\n      <td>10</td>\n    </tr>\n  </tbody>\n</table>\n</div>"
     },
     "execution_count": 142,
     "metadata": {},
     "output_type": "execute_result"
    }
   ],
   "source": [
    "import string\n",
    "\n",
    "def tokenize(text: str):\n",
    "    text = text.lower()\n",
    "\n",
    "    for punctuation_mark in set(string.punctuation) - {\"-\"}:\n",
    "        text = text.replace(punctuation_mark, \"\")\n",
    "    text = \"\".join(c for c in text if not c.isdigit())\n",
    "\n",
    "    word_list = [word.strip().strip(\"-\") for word in text.split()]\n",
    "    word_list = [word for word in word_list if word]\n",
    "    return \" \".join(word_list)\n",
    "\n",
    "train_dataset[\"text\"] = train_dataset[\"text\"].apply(tokenize)\n",
    "train_dataset.head()"
   ],
   "metadata": {
    "collapsed": false,
    "ExecuteTime": {
     "end_time": "2023-06-22T08:21:25.497843100Z",
     "start_time": "2023-06-22T08:21:23.722582200Z"
    }
   }
  },
  {
   "cell_type": "code",
   "execution_count": 143,
   "outputs": [
    {
     "name": "stdout",
     "output_type": "stream",
     "text": [
      "Mean number of characters: 1023.0436906627339\n",
      "Mean number of words: 154.70946631025902\n"
     ]
    }
   ],
   "source": [
    "print(\"Mean number of characters:\", train_dataset[\"text\"].apply(lambda s: len(s)).mean())\n",
    "print(\"Mean number of words:\", train_dataset[\"text\"].apply(lambda s: len(s.split())).mean())"
   ],
   "metadata": {
    "collapsed": false,
    "ExecuteTime": {
     "end_time": "2023-06-22T08:21:25.599096500Z",
     "start_time": "2023-06-22T08:21:25.497843100Z"
    }
   }
  },
  {
   "cell_type": "markdown",
   "source": [
    "### Language Split\n",
    "\n",
    "Based on inspection of the JSON file we can see that the language of the file changes."
   ],
   "metadata": {
    "collapsed": false
   }
  },
  {
   "cell_type": "code",
   "execution_count": 145,
   "outputs": [
    {
     "name": "stdout",
     "output_type": "stream",
     "text": [
      "Polish language in training dataset 0.16914001290441516\n",
      "English language in training dataset 0.8308599870955848\n"
     ]
    }
   ],
   "source": [
    "first_english_index = train_dataset[\"filename\"].to_list().index(\"./test_hashed/advertisement/a64b06e6-8f0a-4fd7-ba12-0779c5560d9a.tiff\")\n",
    "train_dataset_pl = train_dataset.iloc[:first_english_index]\n",
    "train_dataset_eng = train_dataset.iloc[first_english_index:]\n",
    "\n",
    "print(\"Polish language in training dataset\", train_dataset_pl.shape[0] / train_dataset.shape[0])\n",
    "print(\"English language in training dataset\", train_dataset_eng.shape[0] / train_dataset.shape[0])"
   ],
   "metadata": {
    "collapsed": false,
    "ExecuteTime": {
     "end_time": "2023-06-22T08:22:15.370202700Z",
     "start_time": "2023-06-22T08:22:15.350477400Z"
    }
   }
  }
 ],
 "metadata": {
  "kernelspec": {
   "display_name": "Python 3",
   "language": "python",
   "name": "python3"
  },
  "language_info": {
   "codemirror_mode": {
    "name": "ipython",
    "version": 2
   },
   "file_extension": ".py",
   "mimetype": "text/x-python",
   "name": "python",
   "nbconvert_exporter": "python",
   "pygments_lexer": "ipython2",
   "version": "2.7.6"
  }
 },
 "nbformat": 4,
 "nbformat_minor": 0
}
